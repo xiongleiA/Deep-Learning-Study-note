{
 "cells": [
  {
   "cell_type": "markdown",
   "metadata": {},
   "source": [
    "# 深度学习(DeepLearning)\n",
    "## 学习[Deep Learning](http://www.deeplearningbook.org/)的笔记\n",
    "### 第一章 前言\n",
    "### 第二章 线性代数\n",
    "#### 2.1 标量，向量，矩阵和张量\n",
    " - 笛卡儿积集\n",
    "> 定义：设**A**和**B**中元素为第二元素构成的有序二元组。称它为集合是两个集合，存在一个集合，它的元素是用**A**中元素为第一元素，**B**中元素为第二元素构成的有序二元组。称它为集合**A**和**B**的笛卡儿积集，记为$A \\times B$。即\n",
    "\\begin{equation}\n",
    "A \\times B = \\{(a,b) \\vert a \\in A,b \\in B \\}\n",
    "\\end{equation}\n",
    ">例：$A = \\{1,2\\}$, $B = \\{a,b,c\\}$, $A \\times B = \\{(1,a),(1,b),(1,c),(2,a),(2,b),(2,c)\\}$\n",
    " - 转置\n",
    " \n",
    " 请见下面的演示\n",
    " \n",
    "\n",
    "\n",
    "\n",
    "\n",
    "\n",
    "\n"
   ]
  },
  {
   "cell_type": "code",
   "execution_count": 1,
   "metadata": {
    "collapsed": false
   },
   "outputs": [
    {
     "name": "stdout",
     "output_type": "stream",
     "text": [
      "[[ 0.6956169   0.16847091]\n",
      " [ 0.05584193  0.30238227]]\n",
      ">>>>>>>>>>>>>>>>>>>>>>\n",
      "[[ 0.6956169   0.05584193]\n",
      " [ 0.16847091  0.30238227]]\n"
     ]
    }
   ],
   "source": [
    "import numpy as np\n",
    "# Pretty display for notebooks\n",
    "# 让结果在notebook中显示\n",
    "%matplotlib inline\n",
    "array = np.random.rand(2,2)\n",
    "matrix = np.mat(array)\n",
    "print matrix\n",
    "matrix_transpose = matrix.T\n",
    "print \">>>>>>>>>>>>>>>>>>>>>>\"\n",
    "print matrix_transpose\n"
   ]
  },
  {
   "cell_type": "markdown",
   "metadata": {},
   "source": [
    " - 广播\n",
    " \n",
    " 广播是一种强有力的机制，它让Numpy可以让不同大小的矩阵在一起进行数学计算。我们常常会有一个小的矩阵和一个大的矩阵，然后我们会需要用小的矩阵对大的矩阵做一些计算。\n",
    "例如， 如果我们想要把一个向量加到矩阵的每一行，我们可以这样做："
   ]
  },
  {
   "cell_type": "code",
   "execution_count": 2,
   "metadata": {
    "collapsed": false
   },
   "outputs": [
    {
     "name": "stdout",
     "output_type": "stream",
     "text": [
      "[[ 1  2  3]\n",
      " [ 4  5  6]\n",
      " [ 7  8  9]\n",
      " [10 11 12]]\n",
      ">>>>>>>>>>>>>>>>>>>>>>>>>>>>>>>>>>>>>>>>>>>>>>\n",
      "[1 0 1]\n",
      ">>>>>>>>>>>>>>>>>>>>>>>>>>>>>>>>>>>>>>>>>>>>>>\n",
      "[[ 2  2  4]\n",
      " [ 5  5  7]\n",
      " [ 8  8 10]\n",
      " [11 11 13]]\n"
     ]
    }
   ],
   "source": [
    "# We will add the vector v to each row of the matrix x,\n",
    "# storing the result in the matrix y\n",
    "x = np.array([[1,2,3], [4,5,6], [7,8,9], [10, 11, 12]])\n",
    "print x\n",
    "print \">>>>>>>>>>>>>>>>>>>>>>>>>>>>>>>>>>>>>>>>>>>>>>\"\n",
    "v = np.array([1, 0, 1])\n",
    "print v\n",
    "print \">>>>>>>>>>>>>>>>>>>>>>>>>>>>>>>>>>>>>>>>>>>>>>\"\n",
    "y = x + v  # Add v to each row of x using broadcasting\n",
    "print y"
   ]
  },
  {
   "cell_type": "markdown",
   "metadata": {},
   "source": [
    " - 逆矩阵\n",
    " \n",
    "逆矩阵在数字计算机上只能表现出有限的精度，例如矩阵**A**：\n",
    "\\begin{equation}       %开始数学环境\n",
    "A=\\left(                 %左括号\n",
    "  \\begin{array}{ccc}   %该矩阵一共3列，每一列都居中放置\n",
    "    1 & 0 & 1\\\\  %第一行元素\n",
    "    2 & 1 & 0\\\\%第二行元素\n",
    "    -3 & 2 & 5\n",
    "  \\end{array}\n",
    "\\right)                 %右括号\n",
    "\\end{equation}\n",
    "矩阵**A**的逆矩阵为：\n",
    "\\begin{equation}       %开始数学环境\n",
    "A^{-1}=\\left(                 %左括号\n",
    "  \\begin{array}{ccc}   %该矩阵一共3列，每一列都居中放置\n",
    "    \\frac{2}{12} & \\frac{2}{12} & \\frac{-1}{12}\\\\  %第一行元素\n",
    "    \\frac{-10}{12} & \\frac{8}{12} & \\frac{2}{12}\\\\%第二行元素\n",
    "    \\frac{7}{12} & \\frac{-2}{12} & \\frac{1}{12}\n",
    "  \\end{array}\n",
    "\\right)                 %右括号\n",
    "\\end{equation}\n",
    "下面**Python**演示矩阵求逆："
   ]
  },
  {
   "cell_type": "code",
   "execution_count": 3,
   "metadata": {
    "collapsed": false
   },
   "outputs": [
    {
     "name": "stdout",
     "output_type": "stream",
     "text": [
      "[[ 1  0  1]\n",
      " [ 2  1  0]\n",
      " [-3  2  5]]\n",
      ">>>>>>>>>>>>>>>>>>>>>>\n",
      "12.0\n",
      ">>>>>>>>>>>>>>>>>>>>>>\n",
      "[[ 0.41666667  0.16666667 -0.08333333]\n",
      " [-0.83333333  0.66666667  0.16666667]\n",
      " [ 0.58333333 -0.16666667  0.08333333]]\n"
     ]
    }
   ],
   "source": [
    "matrix = np.array([[1,0,1],[2,1,0],[-3,2,5]])\n",
    "print matrix\n",
    "print \">>>>>>>>>>>>>>>>>>>>>>\"\n",
    "matrix_abs = np.linalg.det(matrix)\n",
    "print matrix_abs\n",
    "print \">>>>>>>>>>>>>>>>>>>>>>\"\n",
    "matrix_inv = np.linalg.inv(matrix)\n",
    "print matrix_inv"
   ]
  },
  {
   "cell_type": "markdown",
   "metadata": {},
   "source": [
    " - 范数\n",
    " \n",
    " \n",
    " "
   ]
  },
  {
   "cell_type": "code",
   "execution_count": 4,
   "metadata": {
    "collapsed": false
   },
   "outputs": [
    {
     "name": "stdout",
     "output_type": "stream",
     "text": [
      "[1 2]\n",
      "[3 4]\n",
      "3.0\n",
      "7.0\n",
      "2.2360679775\n",
      "5.0\n",
      "25\n"
     ]
    },
    {
     "data": {
      "text/plain": [
       "<matplotlib.legend.Legend at 0x21b7278>"
      ]
     },
     "execution_count": 4,
     "metadata": {},
     "output_type": "execute_result"
    },
    {
     "data": {
      "image/png": "[encoded data removed]",
      "text/plain": [
       "<matplotlib.figure.Figure at 0x7722470>"
      ]
     },
     "metadata": {},
     "output_type": "display_data"
    }
   ],
   "source": [
    "import matplotlib.pyplot as plt\n",
    "x = np.array([1,2])\n",
    "y = np.array([3,4])\n",
    "print x\n",
    "print y\n",
    "#L1 norm\n",
    "print np.linalg.norm(x,1)\n",
    "print np.linalg.norm(y,1)\n",
    "#L2 norm\n",
    "print np.linalg.norm(x,2)\n",
    "print np.linalg.norm(y,2)\n",
    "#squre L2 norm\n",
    "y_transpose = np.transpose(y)\n",
    "print np.dot(y_transpose,y)\n",
    "\n",
    "fig = plt.figure(figsize=(10,6),dpi=80)\n",
    "#squre L2 norm 在原点附近增长的十分缓慢；\n",
    "x_demo = [0,0]\n",
    "add_demo = [1e-2,1e-2]\n",
    "y = []\n",
    "for i in np.arange(100):\n",
    "    #square L2 norm\n",
    "    z_demo = np.dot(np.transpose(x_demo),x_demo)\n",
    "    y.append(z_demo)\n",
    "    x_demo = np.add(x_demo,add_demo)\n",
    "# plot square L2 norm\n",
    "plt.plot(np.arange(100),y,'b-',lw=2.5,label='square L2')\n",
    "#L1 norm在各个位置斜率相同\n",
    "x_demo = [0,0]\n",
    "add_demo = [1e-2,1e-2]\n",
    "y = []\n",
    "for i in np.arange(100):\n",
    "    #L1 norm\n",
    "    z_demo = np.linalg.norm(x_demo,1)\n",
    "    y.append(z_demo)\n",
    "    x_demo = np.add(x_demo,add_demo)\n",
    "#L1 norm\n",
    "plt.plot(np.arange(100),y,'r-',lw=2.5,label='L1 norm')\n",
    "#图例\n",
    "plt.legend(loc='upper left')\n",
    "\n",
    "    \n",
    "    "
   ]
  },
  {
   "cell_type": "markdown",
   "metadata": {},
   "source": [
    " - 非方阵的对角矩阵\n",
    " \n",
    " 非方阵的对角矩阵A:\n",
    "\\begin{pmatrix}\n",
    "2 & 0 \\\\\n",
    "0 & 3 \\\\\n",
    "0 & 0\n",
    "\\end{pmatrix}\n",
    "x向量：\n",
    "\\begin{pmatrix}\n",
    "x_1 \\\\\n",
    "x_2\n",
    "\\end{pmatrix}\n",
    "Ax为：\n",
    "\n",
    "\\begin{pmatrix}\n",
    "2 \\times x_1 \\\\\n",
    "3 \\times x_2 \\\\\n",
    "0\n",
    "\\end{pmatrix}\n",
    "假如非方阵A为：\n",
    "\\begin{pmatrix}\n",
    "2 & 0 & 0\\\\\n",
    "0 & 3 & 0\\\\\n",
    "\\end{pmatrix}\n",
    "x向量：\n",
    "\\begin{pmatrix}\n",
    "x_1 \\\\\n",
    "x_2 \\\\\n",
    "x_3\n",
    "\\end{pmatrix}\n",
    "Ax为：\n",
    "\\begin{pmatrix}\n",
    "2 \\times x_1 \\\\\n",
    "3 \\times x_2\n",
    "\\end{pmatrix}"
   ]
  },
  {
   "cell_type": "code",
   "execution_count": 5,
   "metadata": {
    "collapsed": false
   },
   "outputs": [
    {
     "name": "stdout",
     "output_type": "stream",
     "text": [
      "[[1 0 0]\n",
      " [0 2 0]\n",
      " [0 0 3]]\n",
      ">>>>>>>>>>>>>>>>>>>>>>>>>>>>>>>>>>>>>>>\n",
      "[ 1.  2.  3.]\n",
      ">>>>>>>>>>>>>>>>>>>>>>>>>>>>>>>>>>>>>>>\n",
      "[[ 1.  0.  0.]\n",
      " [ 0.  1.  0.]\n",
      " [ 0.  0.  1.]]\n",
      ">>>>>>>>>>>>>>>>>>>>>>>>>>>>>>>>>>>>>>>\n",
      "[ 1.  0.  0.]\n",
      "Correct\n",
      ">>>>>>>>>>>>>>>>>>>>>>>>>>>>>>>>>>>>>>>\n",
      "[ 0.  2.  0.]\n",
      "Correct\n",
      ">>>>>>>>>>>>>>>>>>>>>>>>>>>>>>>>>>>>>>>\n",
      "[ 0.  0.  3.]\n",
      "Correct\n"
     ]
    }
   ],
   "source": [
    "#实对称矩阵的特征分解\n",
    "matrix = np.array([[2,-1,-1],[-1,2,1],[-1,1,2]])\n",
    "matrix = np.array([[1,0,0],[0,2,0],[0,0,3]])\n",
    "print matrix\n",
    "print \">>>>>>>>>>>>>>>>>>>>>>>>>>>>>>>>>>>>>>>\"\n",
    "w, v = np.linalg.eig(matrix)\n",
    "print w\n",
    "print \">>>>>>>>>>>>>>>>>>>>>>>>>>>>>>>>>>>>>>>\"\n",
    "print v\n",
    "\n",
    "#验证\n",
    "for i in range(3):\n",
    "    print \">>>>>>>>>>>>>>>>>>>>>>>>>>>>>>>>>>>>>>>\"\n",
    "    print v[i]*w[:][i]\n",
    "    if (np.dot(matrix,v[:][i]) == w[i]*v[:][i]).all():\n",
    "        \n",
    "        print \"Correct\"\n",
    "    else:\n",
    "        print \"Error\"\n",
    "\n",
    " \n",
    " "
   ]
  },
  {
   "cell_type": "code",
   "execution_count": 6,
   "metadata": {
    "collapsed": false
   },
   "outputs": [
    {
     "name": "stdout",
     "output_type": "stream",
     "text": [
      "[[ -1.12749978e-01   1.35680211e-01  -2.00765770e-01   9.62626120e-01\n",
      "    4.38449809e-02  -2.31483406e-17]\n",
      " [ -2.25499956e-01   2.71360421e-01  -4.01531540e-01  -1.85954687e-01\n",
      "    8.24443187e-01  -1.28253171e-16]\n",
      " [ -3.38249933e-01   4.07040632e-01  -6.02297310e-01  -1.96905582e-01\n",
      "   -5.64243785e-01   1.34353940e-16]\n",
      " [ -6.81829458e-01   3.68470135e-01   6.31932235e-01   9.35540104e-16\n",
      "   -9.66614692e-18  -2.46814274e-17]\n",
      " [ -2.67257473e-01  -3.48282094e-01  -8.52820365e-02  -8.56785207e-17\n",
      "    1.34299233e-17  -8.94427191e-01]\n",
      " [ -5.34514947e-01  -6.96564188e-01  -1.70564073e-01  -1.71357041e-16\n",
      "    2.68598465e-17   4.47213595e-01]]\n",
      ">>>>>>>>>>>>>>>>>>>>>>>>>>>>>>>>>>>>>>>\n",
      "[  1.09824632e+01   8.79229347e+00   1.03974857e+00   1.18321522e-15\n",
      "   2.13044868e-32]\n",
      ">>>>>>>>>>>>>>>>>>>>>>>>>>>>>>>>>>>>>>>\n",
      "[[ -4.54146477e-01  -4.54146477e-01  -3.29979531e-01  -4.89190895e-01\n",
      "   -4.89190895e-01]\n",
      " [  4.25585615e-01   4.25585615e-01   3.41769001e-01  -5.10366397e-01\n",
      "   -5.10366397e-01]\n",
      " [  3.35600748e-01   3.35600748e-01  -8.79947418e-01  -1.47786459e-02\n",
      "   -1.47786459e-02]\n",
      " [ -7.07106781e-01   7.07106781e-01  -3.46769826e-16  -1.48003339e-17\n",
      "    9.62219686e-17]\n",
      " [ -0.00000000e+00   5.14615619e-17  -3.33469609e-17   7.07106781e-01\n",
      "   -7.07106781e-01]]\n",
      ">>>>>>>>>>>>>>>>>>>>>>>>>>>>>>>>>>>>>>>\n",
      "[[ 10.98246322   0.           0.        ]\n",
      " [  0.           8.79229347   0.        ]\n",
      " [  0.           0.           1.03974857]]\n",
      ">>>>>>>>>>>>>>>>>>>>>>>>>>>>>>>>>>>>>>>\n",
      "[[  1.00000000e+00   1.00000000e+00   1.00000000e+00   4.64769438e-16\n",
      "    4.18418533e-16]\n",
      " [  2.00000000e+00   2.00000000e+00   2.00000000e+00  -4.35612605e-16\n",
      "   -5.28314417e-16]\n",
      " [  3.00000000e+00   3.00000000e+00   3.00000000e+00  -9.93072343e-16\n",
      "   -1.13212506e-15]\n",
      " [  5.00000000e+00   5.00000000e+00   3.00000000e+00   2.00000000e+00\n",
      "    2.00000000e+00]\n",
      " [  3.76224688e-16   1.78022313e-15   2.63198247e-16   3.00000000e+00\n",
      "    3.00000000e+00]\n",
      " [  7.52449377e-16   3.56044627e-15   5.26396493e-16   6.00000000e+00\n",
      "    6.00000000e+00]]\n"
     ]
    }
   ],
   "source": [
    "#奇异值分解\n",
    "def loadData():  \n",
    "    return [[1,1,1,0,0],  \n",
    "             [2,2,2,0,0],  \n",
    "             [3,3,3,0,0],  \n",
    "             [5,5,3,2,2],  \n",
    "             [0,0,0,3,3],  \n",
    "             [0,0,0,6,6]]  \n",
    "data=loadData() \n",
    "u,sigma,vt=np.linalg.svd(data)\n",
    "print u\n",
    "print \">>>>>>>>>>>>>>>>>>>>>>>>>>>>>>>>>>>>>>>\"\n",
    "print sigma\n",
    "print \">>>>>>>>>>>>>>>>>>>>>>>>>>>>>>>>>>>>>>>\"\n",
    "print vt\n",
    "\n",
    "print \">>>>>>>>>>>>>>>>>>>>>>>>>>>>>>>>>>>>>>>\"\n",
    "sig3=np.mat([[sigma[0],0,0],  \n",
    "      [0,sigma[1],0],  \n",
    "      [0,0,sigma[2]]])\n",
    "print sig3\n",
    "print \">>>>>>>>>>>>>>>>>>>>>>>>>>>>>>>>>>>>>>>\"\n",
    "print u[:,:3]*sig3*vt[:3,:]"
   ]
  },
  {
   "cell_type": "code",
   "execution_count": 7,
   "metadata": {
    "collapsed": false
   },
   "outputs": [
    {
     "name": "stdout",
     "output_type": "stream",
     "text": [
      ">>>>>>>>>>>>>>>>>>>>>>>>>>>>>>>>>>>>>>>>>>>>>\n",
      "[[ 0.10441943  1.7681675   0.66544976  0.34808825 -0.15592765  0.09074309]\n",
      " [ 1.02613567  1.14817719 -1.43291828  1.4289345  -1.27137585 -0.65670879]\n",
      " [-0.32766081 -0.49511219 -0.37883674 -1.62422453 -1.01311946  0.43366895]\n",
      " [ 0.66466472 -0.31162671  0.72901918  0.88721501 -1.48969163  0.00570139]\n",
      " [-0.60885216  0.49109054 -0.54660105  0.13861238  0.28323    -1.98784511]\n",
      " [-0.79237656 -0.34940036  1.18391502 -0.63600037  0.25842108 -0.10837892]\n",
      " [ 0.52451785 -0.35280372 -0.0461226   1.30987001 -0.33563276  1.29474562]\n",
      " [-1.09694828  1.06135178  0.11634269  1.12714456  0.15503763  0.33119217]\n",
      " [ 0.86727665 -0.7644233  -0.62501148  0.78858818 -0.21050534  0.37791439]] (9L, 6L)\n",
      ">>>>>>>>>>>>>>>>>>>>>>>>>>>>>>>>>>>>>>>>>>>>>\n",
      "[[ 0.25637409  0.05618421 -0.254491   -0.00921799 -0.18139812 -0.13697445\n",
      "  -0.08583806 -0.53107997  0.09431067]\n",
      " [ 0.37691562  0.12401666  0.01385688 -0.14667039 -0.09671878 -0.09383517\n",
      "  -0.08774622  0.02396602 -0.14472259]\n",
      " [ 0.19585527 -0.17378145 -0.1967345   0.29874679 -0.05126369  0.21956507\n",
      "  -0.04219844 -0.12084614 -0.08396203]\n",
      " [-0.13299164  0.024193   -0.21117513  0.13487889  0.10695423  0.03845386\n",
      "   0.17276158  0.22698847  0.09706924]\n",
      " [ 0.03636642 -0.15816892 -0.35056554 -0.34185565 -0.03486058 -0.08320973\n",
      "  -0.01272837 -0.12108983  0.06635346]\n",
      " [ 0.06185478 -0.04724017  0.14333848 -0.16355324 -0.30565643 -0.08746587\n",
      "   0.17868048  0.14792688  0.01248967]] (6L, 9L)\n"
     ]
    }
   ],
   "source": [
    "#矩阵的伪逆\n",
    "a = np.random.randn(9, 6)\n",
    "print \">>>>>>>>>>>>>>>>>>>>>>>>>>>>>>>>>>>>>>>>>>>>>\"\n",
    "print a,np.shape(a)\n",
    "B = np.linalg.pinv(a)\n",
    "print \">>>>>>>>>>>>>>>>>>>>>>>>>>>>>>>>>>>>>>>>>>>>>\"\n",
    "print B,np.shape(B)"
   ]
  },
  {
   "cell_type": "markdown",
   "metadata": {},
   "source": [
    " - 向量微积分法则\n",
    " \n",
    " https://en.wikipedia.org/wiki/Matrix_calculus\n",
    " \n",
    " \\begin{equation} \n",
    " \\frac{\\partial{(-2x^TDc+c^Tc)}}{\\partial{c}} = \\frac{\\partial{(-2x^TDc)}}{\\partial{c}} + \\frac{\\partial{(c^Tc)}}{\\partial{c}} = \n",
    " (-2x^TDc)^T + 2c = -2D^Tx + 2c\n",
    " \\end{equation} \n",
    " \n",
    " \n",
    " - 通过归纳法证明PCA\n",
    " \n",
    " 关于PCA的好的参考资料：\n",
    " \n",
    " http://blog.codinglabs.org/articles/pca-tutorial.html\n",
    " \n",
    " \n",
    "  - 两个好的学习资料:\n",
    "  \n",
    "  http://www.cnblogs.com/daniel-D/\n",
    "  \n",
    "  http://blog.sciencenet.cn/blog-696950-699432.html\n",
    "  "
   ]
  },
  {
   "cell_type": "markdown",
   "metadata": {},
   "source": [
    "### 第3章 概率与信息论"
   ]
  },
  {
   "cell_type": "markdown",
   "metadata": {},
   "source": [
    " \n",
    " - 二项分布（Binomial Distribution）\n",
    " \n",
    " 服从二项分布的随机变量X表示在n个独立的是/非试验中成功的次数，其中每次试验的成功概率为p。\n",
    " \n",
    " \n",
    " \n",
    " \n",
    " \n",
    " "
   ]
  },
  {
   "cell_type": "code",
   "execution_count": 8,
   "metadata": {
    "collapsed": false
   },
   "outputs": [
    {
     "data": {
      "image/png": "[encoded data removed]",
      "text/plain": [
       "<matplotlib.figure.Figure at 0x7528630>"
      ]
     },
     "metadata": {},
     "output_type": "display_data"
    }
   ],
   "source": [
    "# Python实现正态分布\n",
    "# 绘制正态分布概率密度函数\n",
    "import math\n",
    "u = 0   # 均值μ\n",
    "u01 = -2\n",
    "sig = math.sqrt(0.2)  # 标准差δ\n",
    "sig01 = math.sqrt(1)\n",
    "sig02 = math.sqrt(5)\n",
    "sig_u01 = math.sqrt(0.5)\n",
    "x = np.linspace(u - 3*sig, u + 3*sig, 50)\n",
    "x_01 = np.linspace(u - 6 * sig, u + 6 * sig, 50)\n",
    "x_02 = np.linspace(u - 10 * sig, u + 10 * sig, 50)\n",
    "x_u01 = np.linspace(u - 10 * sig, u + 1 * sig, 50)\n",
    "y_sig = np.exp(-(x - u) ** 2 /(2* sig **2))/(math.sqrt(2*math.pi)*sig)\n",
    "y_sig01 = np.exp(-(x_01 - u) ** 2 /(2* sig01 **2))/(math.sqrt(2*math.pi)*sig01)\n",
    "y_sig02 = np.exp(-(x_02 - u) ** 2 / (2 * sig02 ** 2)) / (math.sqrt(2 * math.pi) * sig02)\n",
    "y_sig_u01 = np.exp(-(x_u01 - u01) ** 2 / (2 * sig_u01 ** 2)) / (math.sqrt(2 * math.pi) * sig_u01)\n",
    "plt.plot(x, y_sig, \"r-\", linewidth=2)\n",
    "plt.plot(x_01, y_sig01, \"g-\", linewidth=2)\n",
    "plt.plot(x_02, y_sig02, \"b-\", linewidth=2)\n",
    "plt.plot(x_u01, y_sig_u01, \"m-\", linewidth=2)\n",
    "# plt.plot(x, y, 'r-', x, y, 'go', linewidth=2,markersize=8)\n",
    "plt.grid(True)\n",
    "plt.show()\n",
    "    "
   ]
  },
  {
   "cell_type": "code",
   "execution_count": 9,
   "metadata": {
    "collapsed": false
   },
   "outputs": [
    {
     "data": {
      "text/plain": [
       "[<matplotlib.lines.Line2D at 0x7cfcd30>]"
      ]
     },
     "execution_count": 9,
     "metadata": {},
     "output_type": "execute_result"
    },
    {
     "data": {
      "image/png": "[encoded data removed]",
      "text/plain": [
       "<matplotlib.figure.Figure at 0x7638588>"
      ]
     },
     "metadata": {},
     "output_type": "display_data"
    }
   ],
   "source": [
    "#Laplace example:\n",
    "#Draw samples from the distribution\n",
    "loc,scale = 0.,1.\n",
    "s = np.random.laplace(loc,scale,1000)\n",
    "#Display the histogram of the samples,along with the probability density function:\n",
    "import matplotlib.pyplot as plt\n",
    "count,bins,ignored = plt.hist(s,30,normed=True)\n",
    "\n",
    "x = np.arange(-8.,8.,.01)\n",
    "pdf = np.exp(-abs(x-loc)/scale)/(2*scale)\n",
    "\n",
    "plt.plot(x,pdf)\n",
    "#Plot Gaussian for comparison\n",
    "g = (1/(scale*np.sqrt(2*np.pi))*np.exp(-(x - loc)**2/(2*scale**2)))\n",
    "plt.plot(x,g)"
   ]
  },
  {
   "cell_type": "code",
   "execution_count": 10,
   "metadata": {
    "collapsed": false
   },
   "outputs": [
    {
     "data": {
      "image/png": "[encoded data removed]",
      "text/plain": [
       "<matplotlib.figure.Figure at 0x7df8c50>"
      ]
     },
     "metadata": {},
     "output_type": "display_data"
    }
   ],
   "source": [
    "#Binomial Distribution example\n",
    "from scipy.stats import binom\n",
    "n = 10\n",
    "p = 0.3\n",
    "k = np.arange(0,21)\n",
    "binomial = binom.pmf(k,n,p)\n",
    "#print binomial\n",
    "\n",
    "plt.plot(k,binomial,'o-')\n",
    "plt.title('Binomial: n=%i ,p=%.2f' %(n,p),fontsize=15)\n",
    "plt.xlabel('Number of successes')\n",
    "plt.ylabel('Probability of successes',fontsize=15)\n",
    "plt.show()\n"
   ]
  },
  {
   "cell_type": "code",
   "execution_count": 11,
   "metadata": {
    "collapsed": false
   },
   "outputs": [
    {
     "name": "stdout",
     "output_type": "stream",
     "text": [
      "Mean: 2.9892\n",
      "SD: 1.44045\n"
     ]
    },
    {
     "data": {
      "image/png": "[encoded data removed]",
      "text/plain": [
       "<matplotlib.figure.Figure at 0x7836438>"
      ]
     },
     "metadata": {},
     "output_type": "display_data"
    }
   ],
   "source": [
    "#使用.rvs函数模拟一个二项随机变量\n",
    "binom_sim = binom.rvs(n=10,p=0.3,size=10000)\n",
    "print \"Mean: %g\" %np.mean(binom_sim)\n",
    "print \"SD: %g\"% np.std(binom_sim,ddof=1)\n",
    "plt.hist(binom_sim,bins=10,normed=True)\n",
    "plt.xlabel(\"X\")\n",
    "plt.ylabel(\"density\")\n",
    "plt.show()"
   ]
  },
  {
   "cell_type": "code",
   "execution_count": 12,
   "metadata": {
    "collapsed": false
   },
   "outputs": [
    {
     "data": {
      "image/png": "[encoded data removed]",
      "text/plain": [
       "<matplotlib.figure.Figure at 0x7ba0f60>"
      ]
     },
     "metadata": {},
     "output_type": "display_data"
    }
   ],
   "source": [
    "#Poisson Distribution\n",
    "from scipy.stats import poisson\n",
    "rate = 2\n",
    "n = np.arange(0,10)\n",
    "y = poisson.pmf(n,rate)\n",
    "plt.plot(n,y,'o-')\n",
    "plt.title('Poisson: rate=%i'%rate,fontsize=15)\n",
    "plt.xlabel('Occurrence frequency')\n",
    "plt.ylabel('Probability of Occurrence frequency',fontsize=15)\n",
    "plt.show()"
   ]
  },
  {
   "cell_type": "code",
   "execution_count": 13,
   "metadata": {
    "collapsed": false
   },
   "outputs": [
    {
     "name": "stdout",
     "output_type": "stream",
     "text": [
      "Mean: 2.075\n",
      "SD: 1.43856\n"
     ]
    },
    {
     "data": {
      "image/png": "[encoded data removed]",
      "text/plain": [
       "<matplotlib.figure.Figure at 0x9138f98>"
      ]
     },
     "metadata": {},
     "output_type": "display_data"
    }
   ],
   "source": [
    "#模拟1000个服从泊松分布的随机变量\n",
    "data = poisson.rvs(mu = 2,loc = 0,size =1000)\n",
    "print \"Mean: %g\"%np.mean(data)\n",
    "print \"SD: %g\"%np.std(data,ddof=1)\n",
    "plt.figure()\n",
    "plt.hist(data,bins=9,normed=True)\n",
    "plt.xlim(0,10)\n",
    "plt.xlabel(\"Number of accidents\")\n",
    "plt.title(\"Simulating Possion Random Variables\")\n",
    "plt.show()"
   ]
  },
  {
   "cell_type": "code",
   "execution_count": 14,
   "metadata": {
    "collapsed": false
   },
   "outputs": [
    {
     "data": {
      "image/png": "[encoded data removed]",
      "text/plain": [
       "<matplotlib.figure.Figure at 0x9138320>"
      ]
     },
     "metadata": {},
     "output_type": "display_data"
    }
   ],
   "source": [
    "#Dirac delta function understanding\n",
    "#\n",
    "# Python实现正态分布\n",
    "# 绘制正态分布概率密度函数\n",
    "import math\n",
    "u = 0   # 均值μ\n",
    "u01 = -2\n",
    "sig = math.sqrt(0.2)  # 标准差δ\n",
    "sig01 = math.sqrt(0.02)\n",
    "sig02 = math.sqrt(0.002)\n",
    "\n",
    "x = np.linspace(u - 3*sig, u + 3*sig, 50)\n",
    "x_01 = np.linspace(u - 6 * sig, u + 6 * sig, 50)\n",
    "x_02 = np.linspace(u - 10 * sig, u + 10 * sig, 50)\n",
    "\n",
    "y_sig = np.exp(-(x - u) ** 2 /(2* sig **2))/(math.sqrt(2*math.pi)*sig)\n",
    "y_sig01 = np.exp(-(x_01 - u) ** 2 /(2* sig01 **2))/(math.sqrt(2*math.pi)*sig01)\n",
    "y_sig02 = np.exp(-(x_02 - u) ** 2 /(2* sig02 ** 2)) / (math.sqrt(2 * math.pi) * sig02)\n",
    "\n",
    "plt.plot(x, y_sig, \"r-\", linewidth=2)\n",
    "plt.plot(x_01, y_sig01, \"g-\", linewidth=2)\n",
    "plt.plot(x_02, y_sig02, \"b-\", linewidth=2)\n",
    "\n",
    "# plt.plot(x, y, 'r-', x, y, 'go', linewidth=2,markersize=8)\n",
    "plt.grid(True)\n",
    "plt.show()"
   ]
  },
  {
   "cell_type": "markdown",
   "metadata": {},
   "source": [
    "- 先验概率，后验概率，贝叶斯规则举例\n",
    "\n",
    "- 高斯混合模型举例\n",
    "\n",
    "softmax函数形式如下：\n",
    "\n",
    "$\\sigma(z)_{j}=\\frac{e^{z_{j}}}{\\sum^{K}_{k=1}e^{z_{k}}}$\n",
    "\n",
    "　　其中$j = 1,2, ... , K$。\n"
   ]
  },
  {
   "cell_type": "code",
   "execution_count": 15,
   "metadata": {
    "collapsed": false
   },
   "outputs": [
    {
     "name": "stdout",
     "output_type": "stream",
     "text": [
      "(100L,)\n",
      "(100L,)\n"
     ]
    },
    {
     "data": {
      "image/png": "[encoded data removed]",
      "text/plain": [
       "<matplotlib.figure.Figure at 0x92c97f0>"
      ]
     },
     "metadata": {},
     "output_type": "display_data"
    }
   ],
   "source": [
    "#logistic sigmoid demo\n",
    "from scipy.stats import logistic\n",
    "import math\n",
    "\n",
    "def sigmoid(x):\n",
    "  return 1 / (1 + math.exp(-x))\n",
    "x = np.linspace(-10,10, 100)\n",
    "print np.shape(x)\n",
    "y = []\n",
    "for i in x:\n",
    "    z = sigmoid(i)\n",
    "    y.append(z)\n",
    "print np.shape(y)\n",
    "plt.plot(x, y, 'r-', lw=2)\n",
    "plt.show()\n",
    "\n",
    "    \n"
   ]
  },
  {
   "cell_type": "code",
   "execution_count": 16,
   "metadata": {
    "collapsed": false
   },
   "outputs": [
    {
     "name": "stdout",
     "output_type": "stream",
     "text": [
      "Graph X readings: [-10, -9, -8, -7, -6, -5, -4, -3, -2, -1, 0, 1, 2, 3, 4, 5, 6, 7, 8, 9]\n",
      "Graph Y readings: [4.5397868702434395e-05, 0.00012339457598623172, 0.0003353501304664781, 0.0009110511944006454, 0.0024726231566347743, 0.0066928509242848554, 0.01798620996209156, 0.04742587317756678, 0.11920292202211755, 0.2689414213699951, 0.5, 0.7310585786300049, 0.8807970779778823, 0.9525741268224334, 0.9820137900379085, 0.9933071490757153, 0.9975273768433653, 0.9990889488055994, 0.9996646498695336, 0.9998766054240137]\n",
      "Graph Z readings: [4.5398899216870535e-05, 0.00012340218972333965, 0.00033540637289566238, 0.00091146645377420147, 0.0024756851377303571, 0.0067153484891179669, 0.018149927917809779, 0.048587351573741958, 0.1269280110429726, 0.31326168751822286, 0.69314718055994529, 1.3132616875182228, 2.1269280110429727, 3.0485873515737421, 4.0181499279178094, 5.0067153484891183, 6.0024756851377301, 7.0009114664537737, 8.000335406372896, 9.0001234021897236]\n"
     ]
    },
    {
     "data": {
      "image/png": "[encoded data removed]",
      "text/plain": [
       "<matplotlib.figure.Figure at 0x91b1400>"
      ]
     },
     "metadata": {},
     "output_type": "display_data"
    },
    {
     "data": {
      "image/png": "[encoded data removed]",
      "text/plain": [
       "<matplotlib.figure.Figure at 0xa79bb70>"
      ]
     },
     "metadata": {},
     "output_type": "display_data"
    }
   ],
   "source": [
    "#Sigmoid function in Python\n",
    "#Required Python Package\n",
    "import numpy as np\n",
    "import matplotlib.pyplot as plt\n",
    "def sigmoid(inputs):\n",
    "    \n",
    "    sigmoid_scores = [1/float(1+np.exp(-x)) for x in inputs]\n",
    "    return sigmoid_scores\n",
    "\n",
    "#softplus function\n",
    "def softplus(inputs):\n",
    "    \n",
    "    softplus_scores = [np.log(1+np.exp(x)) for x in inputs]\n",
    "    return softplus_scores\n",
    "\n",
    "def line_graph(x,y,x_title,y_title):\n",
    "    \"\"\"\n",
    "    Draw the graph with x and y values\n",
    "    :param x:\n",
    "\n",
    "    :param y:\n",
    "\n",
    "    :param x_title:\n",
    "\n",
    "    :param y_title:\n",
    "\n",
    "    :return:\n",
    "    \n",
    "    \"\"\"\n",
    "    plt.plot(x, y)\n",
    "\n",
    "    plt.xlabel(x_title)\n",
    "\n",
    "    plt.ylabel(y_title)\n",
    "\n",
    "    plt.show()\n",
    "    \n",
    "graph_x = range(-10, 10)\n",
    "\n",
    "graph_y = sigmoid(graph_x)\n",
    "\n",
    "graph_z = softplus(graph_x)\n",
    "\n",
    "\n",
    "print \"Graph X readings: {}\".format(graph_x)\n",
    "\n",
    "print \"Graph Y readings: {}\".format(graph_y)\n",
    "\n",
    "print \"Graph Z readings: {}\".format(graph_z)\n",
    "\n",
    "\n",
    "\n",
    "line_graph(graph_x, graph_y, \"Inputs\", \"Sigmoid Scores\")\n",
    "line_graph(graph_x, graph_z, \"Inputs\", \"Softplus Scores\")\n",
    "\n",
    "#sigmoid_inputs = [2, 3, 5, 6]\n",
    "\n",
    "#print \"Sigmoid Function Output :: {}\".format(sigmoid(sigmoid_inputs))\n",
    "\n",
    "\n",
    "\n",
    "\n"
   ]
  },
  {
   "cell_type": "markdown",
   "metadata": {},
   "source": [
    " - 通过比特度量的信息只是通过奈特度量信息的常数倍。通过换底公式。\n",
    " $$\n",
    " \\frac{\\ln P(x)}{\\log P(x)} = \\frac{\\ln P(x)}{\\frac{\\ln P(x)}{\\ln e}} = \\ln e\n",
    " $$"
   ]
  },
  {
   "cell_type": "code",
   "execution_count": 17,
   "metadata": {
    "collapsed": false
   },
   "outputs": [
    {
     "name": "stderr",
     "output_type": "stream",
     "text": [
      "C:\\Users\\lxion001\\AppData\\Local\\Continuum\\Anaconda2\\lib\\site-packages\\ipykernel\\__main__.py:4: RuntimeWarning: divide by zero encountered in log\n",
      "C:\\Users\\lxion001\\AppData\\Local\\Continuum\\Anaconda2\\lib\\site-packages\\ipykernel\\__main__.py:4: RuntimeWarning: invalid value encountered in double_scalars\n"
     ]
    },
    {
     "data": {
      "image/png": "[encoded data removed]",
      "text/plain": [
       "<matplotlib.figure.Figure at 0x95921d0>"
      ]
     },
     "metadata": {},
     "output_type": "display_data"
    }
   ],
   "source": [
    "#Shannon Entropy demo\n",
    "def ShannonEntropy(inputs):\n",
    "    \n",
    "    softplus_scores = [(x-1)*np.log(1-x)-x*np.log(x) for x in inputs]\n",
    "    return softplus_scores\n",
    "probability = np.linspace(0.0, 1.0, num=50)\n",
    "Shannon_Entropy = ShannonEntropy(probability)\n",
    "line_graph(probability, Shannon_Entropy, \"probability\", \"Shannon Entropy in nats\")\n",
    "\n",
    "\n",
    "\n",
    "#print probability\n"
   ]
  },
  {
   "cell_type": "markdown",
   "metadata": {},
   "source": [
    "- 信息熵和相对熵\n",
    "\n",
    "式(3.49)更清楚的表示如下：\n",
    "\n",
    "如果一个随机变量**X**的可能取值为$X = \\left\\{x_1,x_2,\\cdots,x_n \\right\\}$,对应的概率为$p(X = x_i),(i = 1,2,\\cdots,n)$,则随机变量**X**的熵定义为：\n",
    "\n",
    "\\begin{equation}  \n",
    "    H(X) = -\\sum_{i=1}^n p(x_i)logp(x_i)\n",
    "\\end{equation}  \n",
    "\n",
    "式(3.50)更清楚的表示如下：\n",
    "\n",
    "相对熵又称互熵，交叉熵，鉴别信息，Kullback熵，Kullback-Leible散度（即KL散度）等。设$p(x)$和$q(x)$是**X**取值的两个概率分布，则**P**对**q**的相对熵为：\n",
    "\n",
    "\\begin{equation}  \n",
    "    D(p \\Vert q) = \\sum_{i=1}^n p(x_i)log \\frac{p(x_i)}{q(x_i)}\n",
    "\\end{equation}\n",
    "\n",
    "- KL散度举例\n",
    "\n",
    "假设我们有这样的两个分布，A和B，他们出现0和1的概率如下:\n",
    "\n",
    "\\begin{equation}  \n",
    "    A(0) = \\frac{1}{2},A(1) = \\frac{1}{2}\\\\\n",
    "    B(0) = \\frac{1}{4},B(1) = \\frac{3}{4}\\\\\n",
    "    D(A \\Vert B) = \\frac{1}{2} \\times log \\frac{\\frac{1}{2}}{\\frac{1}{4}} + \\frac{1}{2} \\times log \\frac{\\frac{1}{2}}{\\frac{3}{4}} = \\frac{1}{2} \\times log \\frac{4}{3}\n",
    "\\end{equation}\n",
    "\n",
    "式(3.51)更清楚的表示如下：\n",
    "\\begin{equation}  \n",
    "    H(p,q) = \\sum_{i=1}^n p(x_i)log \\frac{1}{q(x_i)}\n",
    "\\end{equation}\n",
    "\n"
   ]
  },
  {
   "cell_type": "code",
   "execution_count": 18,
   "metadata": {
    "collapsed": false
   },
   "outputs": [],
   "source": [
    "#picture 3.6 demo\n",
    "#GMM（Gaussian Mixture Model)\n",
    "\n"
   ]
  },
  {
   "cell_type": "markdown",
   "metadata": {},
   "source": [
    " ### 数值计算\n",
    " - 病态条件举例\n",
    " \n",
    " 矩阵**A**为：\n",
    " \n",
    "\\begin{equation}       %开始数学环境\n",
    "A = \n",
    "\\left(                 %左括号\n",
    "  \\begin{array}{cc}   %该矩阵一共3列，每一列都居中放置\n",
    "    1 & 0.99\\\\  %第一行元素\n",
    "    0.99 & 0.98\\\\  %第二行元素\n",
    "  \\end{array}\n",
    "\\right)                 %右括号\n",
    "\\end{equation}\n",
    "矩阵**b**为：\n",
    "\n",
    "\\begin{equation}       %开始数学环境\n",
    "b = \n",
    "\\left(                 %左括号\n",
    "  \\begin{array}{cc}   %该矩阵一共3列，每一列都居中放置\n",
    "    1.99\\\\  %第一行元素\n",
    "    1.97\\\\  %第二行元素\n",
    "  \\end{array}\n",
    "\\right)                 %右括号\n",
    "\\end{equation}\n",
    "\n",
    "精确解**x**为：\n",
    "\n",
    " \\begin{equation}       %开始数学环境\n",
    " x =\n",
    "\\left(                 %左括号\n",
    "  \\begin{array}{cc}   %该矩阵一共3列，每一列都居中放置\n",
    "    1\\\\  %第一行元素\n",
    "    1\\\\  %第二行元素\n",
    "  \\end{array}\n",
    "\\right)                 %右括号\n",
    "\\end{equation}\n",
    "\n",
    "矩阵**A**的特征值为：\n",
    "\\begin{equation}       %开始数学环境\n",
    "\\lambda_1 = 1.980050504\\\\\n",
    "\\lambda_2 = -0.00005050\n",
    "\\end{equation}\n",
    "矩阵**A**的条件数为：\n",
    "\\begin{equation}\n",
    "cond(A)_2 =  \\left| \\frac{\\lambda_1}{\\lambda_2}   \\right| \\approx 39206 \\gg 1\n",
    "\\end{equation}\n",
    "\n",
    "测试病态程度，给**b**一个扰动：\n",
    "\n",
    "\\begin{equation}       %开始数学环境\n",
    " \\delta b =\n",
    "\\left(                 %左括号\n",
    "  \\begin{array}{cc}   %该矩阵一共3列，每一列都居中放置\n",
    "    -0.97 \\times 10^{-4}\\\\  %第一行元素\n",
    "    0.106 \\times 10^{-3}\\\\  %第二行元素\n",
    "  \\end{array}\n",
    "\\right)                 %右括号\n",
    "\\end{equation}\n",
    "\n",
    "其相对误差为：\n",
    "\n",
    "\\begin{equation}\n",
    "\\frac{\\lVert \\delta b \\rVert}{\\lVert b \\rVert} \\approx 0.513 \\times 10^{-4} < 0.01 \\%\n",
    "\\end{equation}\n",
    "\n",
    "此时，精确解为：\n",
    "\\begin{equation}       %开始数学环境\n",
    " x^{*} =\n",
    "\\left(                 %左括号\n",
    "  \\begin{array}{cc}   %该矩阵一共3列，每一列都居中放置\n",
    "    3\\\\  %第一行元素\n",
    "    -1.0203\\\\  %第二行元素\n",
    "  \\end{array}\n",
    "\\right)                 %右括号\n",
    "\\end{equation}\n",
    "此时产生的解误差为：\n",
    "\\begin{equation}       %开始数学环境\n",
    " \\delta x = x^{*} - x =\n",
    "\\left(                 %左括号\n",
    "  \\begin{array}{cc}   %该矩阵一共3列，每一列都居中放置\n",
    "    2\\\\  %第一行元素\n",
    "    -2.0203\\\\  %第二行元素\n",
    "  \\end{array}\n",
    "\\right)                 %右括号\n",
    "\\end{equation}\n",
    "\n",
    "其相对误差为：\n",
    "\\begin{equation}\n",
    "\\frac{{\\lVert \\delta x \\rVert}_2}{{\\lVert x \\rVert}_2} \\approx 2.0102 > 200 \\%\n",
    "\\end{equation}"
   ]
  },
  {
   "cell_type": "markdown",
   "metadata": {},
   "source": [
    "- 上溢和下溢\n",
    "\n",
    "softmax函数如下：\n",
    "\\begin{equation}\n",
    "f(x)_i = \\frac{e^{x_i}}{\\sum_{j=1}^n e^{x_j}} , j = 1,2,\\cdots,n\n",
    "\\end{equation}\n",
    "\n",
    "上溢出和下溢出的情况如下：\n",
    " -  **c**极其大，导致分子计算$e^c$时上溢出；\n",
    " \n",
    " -  **c**为负数，且$\\lvert c \\rvert$很大，此时分母是一个极小的正数，有可能四舍五入为0，导致下溢出。\n",
    " \n",
    "令$M = max(x_i),i=1,2,⋯,n$ ，即 **M** 为所有 $x_i$ 中最大的值，那么我们只需要把计算 $f(x_i)$ 的值，改为计算  $f(x_i−M)$ 的值，就可以解决上溢出、下溢出的问题了，并且，计算结果理论上仍然和 $f(x_i)$ 保持一致.\n",
    "证明如下：\n",
    "\\begin{equation}\n",
    "f(x_i) = \\frac{e^{x_i}}{\\sum_{j=1}^n e^{x_j}} = \\frac{\\frac{e^{x_i}}{e^M}}{\\frac{\\sum_{j=1}^n e^{x_j}}{e^M}} = \\frac{e^{x_i-M}}{\\sum_{j=1}^n e^{x_j-M}}\n",
    "\\end{equation}\n",
    "\n",
    "通过这样的变换，对任何一个 $x_i$，减去$M$之后，$e$ 的指数的最大值为0，所以不会发生上溢出；同时，分母中也至少会包含一个值为1的项，所以分母也不会下溢出（四舍五入为0）。\n",
    " - 如果$softmax$函数中的分子发生下溢出，也就是前面所说的 $c$ 为负数，且 $|c|$ 很大，此时分母是一个极小的正数，有可能四舍五入为0的情况，此时，如果我们把$softmax$函数的计算结果再拿去计算 $log$，即 $log softmax$，其实就相当于计算  $log(0)$ ，所以会得到 $−∞$ ，但这实际上是错误的，因为它是由舍入误差造成的计算错误。\n",
    " \n",
    " 解决方法如下：\n",
    " \n",
    " \\begin{equation}\n",
    "log[f(x_i)] =log(\\frac{e^{x_i}}{e^{x_1}+e^{x_2}+\\cdots+e^{x_n}}) = log(\\frac{\\frac{e^{x_i}}{e^M}}{\\frac{e^{x_1}}{e^M}+\\frac{e^{x_2}}{e^M}+\\cdots+\\frac{e^{x_n}}{e^M}}) = log(\\frac{e^{x_i-M}}{\\sum_{j=1}^n e^{x_j-M}}) = log(e^{(x_i-M)}) - log(\\sum_{j=1}^n e^{(x_j-M)}) = (x_i - M) - log(\\sum_{j=1}^n e^{(x_j-M)})\n",
    "\\end{equation}\n",
    " \n",
    " 在最后的表达式中，会产生下溢出的因素已经被消除掉了——求和项中，至少有一项的值为1，这使得$log$后面的值不会下溢出，也就不会发生计算 $log(0)$ 的悲剧。"
   ]
  },
  {
   "cell_type": "markdown",
   "metadata": {},
   "source": [
    "\n",
    "\n",
    " \n",
    "\n",
    "              "
   ]
  },
  {
   "cell_type": "markdown",
   "metadata": {},
   "source": [
    "#### 梯度\n",
    "设$f(x)$是向量$x$的函数，向量$x$如下：\n",
    "\\begin{equation}\n",
    "\\left(\n",
    "  \\begin{array}{c}\n",
    "    x_1\\\\\n",
    "    x_2\\\\\n",
    "    \\vdots\\\\\n",
    "    x_n\n",
    "  \\end{array}\n",
    "\\right)\n",
    "\\end{equation}\n",
    "则梯度如下：\n",
    "\\begin{equation}\n",
    "\\nabla_x f(x) = \n",
    "\\left(\n",
    "  \\begin{array}{c}\n",
    "    \\frac{\\partial f(x)}{\\partial x_1}\\\\\n",
    "    \\frac{\\partial f(x)}{\\partial x_2}\\\\\n",
    "    \\vdots\\\\\n",
    "    \\frac{\\partial f(x)}{\\partial x_n}\n",
    "  \\end{array}\n",
    "\\right)\n",
    "\\end{equation}\n"
   ]
  },
  {
   "cell_type": "markdown",
   "metadata": {},
   "source": [
    "###  Jacobian矩阵\n",
    "假设$F:R^n \\longrightarrow R^m$是一个从欧式$n$维空间转换到欧式$m$维空间的函数。这个函数有$m$个是函数组成：$y_1(x_1,\\cdots,x_n),\\cdots,y_m(x_1,\\cdots,x_n)$。这些函数的偏导数（如果存在）可以组成一个$m$行$n$列的矩阵，这就是所谓的雅可比矩阵。\n",
    "\n",
    "\\begin{equation}\n",
    "\\left(\n",
    "  \\begin{array}{ccc}\n",
    "    \\frac{\\partial y_1}{\\partial x_1} & \\cdots & \\frac{\\partial y_1}{\\partial x_n}\\\\\n",
    "    \\vdots & \\ddots & \\vdots\\\\\n",
    "    \\frac{\\partial y_m}{\\partial x_1} & \\cdots & \\frac{\\partial y_1}{\\partial x_n}\n",
    "  \\end{array}\n",
    "\\right)\n",
    "\\end{equation}\n",
    "###  Hessian矩阵\n",
    "在数学中，海森矩阵是一个自变量为向量的实值函数的二阶偏导数组成的方块矩阵。此函数如下：\n",
    "$$f(x_1,x_2,\\cdots,x_n)$$\n",
    "如果$f$的所有二阶导数都存在，那么$f$的海森矩阵即为：\n",
    "\\begin{equation}\n",
    "\\left(\n",
    "  \\begin{array}{cccc}\n",
    "    \\frac{\\partial^2 f}{\\partial x_1^2} & \\frac{\\partial^2 f}{\\partial x_1 \\partial x_2} & \\cdots & \\frac{\\partial^2 f}{\\partial x_1 \\partial x_n}\\\\\n",
    "    \\frac{\\partial^2 f}{\\partial x_2 \\partial x_1 } & \\frac{\\partial^2 f}{\\partial x_2^2} & \\cdots & \\frac{\\partial^2 f}{\\partial x_2 \\partial x_n}\\\\\n",
    "    \\vdots & \\vdots & \\ddots & \\vdots\\\\\n",
    "    \\frac{\\partial^2 f}{\\partial x_n \\partial x_1 } & \\frac{\\partial^2 f}{\\partial x_n \\partial x_2} & \\cdots & \\frac{\\partial^2 f}{\\partial x_n^2}\n",
    "  \\end{array}\n",
    "\\right)\n",
    "\\end{equation}\n",
    "\n",
    "### 计算梯度：\n",
    "式(4.22)推导过程如下：\n",
    "\n",
    "\\begin{equation}\n",
    "{\\lVert Ax-b \\rVert}_2^2 = (Ax-b)^T(Ax-b) = 2A^T(Ax-b)\n",
    "\\end{equation}\n",
    "\n"
   ]
  },
  {
   "cell_type": "markdown",
   "metadata": {
    "collapsed": true
   },
   "source": [
    " - 泰勒中值定理\n",
    " 若函数$f(x)$在包含$x_0$的某个闭区间[a,b]上具有$n$阶导数，且在开区间(a,b)上具有(n+1)阶导数，则对闭区间[a,b]上任意一点$x$,成立下式：\n",
    "\n",
    "\\begin{equation}\n",
    "f(x)=\\frac{f(x_0)}{0!}+\\frac{f'(x_0)}{1!}(x-x_0)+\\frac{f''(x_0)}{2!}(x-x_0)^2+ \\cdots + \\frac{f^{(n)}(x_0)}{n!}(x-x_0)^n + R_n(x)\n",
    "\\end{equation}\n",
    "其中，\n",
    "表示$f(x)$的$n$阶导数，等号后的多项式称为函数$f(x)$在$x_0$处的泰勒展开式，剩余的$R_n(x)$是泰勒公式的余项，是$(x-x_0)^n$的高阶无穷小。"
   ]
  },
  {
   "cell_type": "markdown",
   "metadata": {},
   "source": [
    " - 最小二乘法\n",
    " \n",
    " 当由实验提供了大量数据时，不能要求拟合函数$\\varphi(x)$在数据点$(x_i,y_i)$处的偏差，即$\\delta_i=\\varphi(x_i)-y_i(i=1,2,...,m)$严格为零，但为了使近似曲线尽量反映所给数据点的变化趋势，需对偏差有所要求。通常要求偏差平方和\n",
    " \n",
    " \n",
    "\\begin{equation*}\n",
    "\\sum_{n=1}^m \\delta_i^2 = \\sum_{n=1}^m (\\varphi(x_i)-y_i)^2\n",
    "\\end{equation*}\n",
    "\n",
    "最小，此即称为最小二乘原理。"
   ]
  },
  {
   "cell_type": "markdown",
   "metadata": {},
   "source": [
    " - 梯度下降法\n",
    " \n",
    " \n",
    "梯度下降法（gradient descent）,又名最速下降法（steepest descent）是求解无约束最优问题最常用的方法，它是一种迭代方法，每一步主要的操作是求解目标函数的梯度向量，将当前位置的负梯度方向作为搜索方向（因为在该方向上目标函数下降最快，这也是最速下降法名称的由来）。\n",
    " - 批量梯度下降法(Batch Gradient Descent)\n",
    "\\begin{equation*}\n",
    "\\theta_j  := \\theta_j + \\alpha \\sum_{n=1}^m (y^{(i)} - h_{\\theta}(x^{(i)}))x_j^{(i)} (for \\quad every \\quad j)\n",
    "\\end{equation*}\n",
    " - 随机梯度下降法（Stochastic Gradient Descent）\n",
    "\\begin{equation*}\n",
    "for \\quad i =1 \\quad to \\quad m:\\\\\n",
    "\\theta_j  := \\theta_j + \\alpha (y^{(i)} - h_{\\theta}(x^{(i)}))x_j^{(i)} (for \\quad every \\quad  j)\n",
    "\\end{equation*}"
   ]
  },
  {
   "cell_type": "markdown",
   "metadata": {},
   "source": []
  },
  {
   "cell_type": "code",
   "execution_count": 19,
   "metadata": {
    "collapsed": false
   },
   "outputs": [
    {
     "name": "stdout",
     "output_type": "stream",
     "text": [
      "loop count = 291 \tw:[5.090711, 2.009979]\n",
      "intercept = 5.1681172494 slope = 1.99815885055\n"
     ]
    },
    {
     "data": {
      "image/png": "[encoded data removed]",
      "text/plain": [
       "<matplotlib.figure.Figure at 0xa979860>"
      ]
     },
     "metadata": {},
     "output_type": "display_data"
    }
   ],
   "source": [
    "# gradient descent demo\n",
    "import numpy as np\n",
    "from scipy import stats\n",
    "import matplotlib.pyplot as plt\n",
    "\n",
    "# 构造训练数据\n",
    "x = np.arange(0., 10., 0.2)\n",
    "m = len(x)                                      # 训练数据点数目\n",
    "x0 = np.full(m, 1.0)\n",
    "input_data = np.vstack([x0, x]).T               # 将偏置b作为权向量的第一个分量\n",
    "#print input_data\n",
    "target_data = 2 * x + 5 + np.random.randn(m)\n",
    "\n",
    "# 两种终止条件\n",
    "loop_max = 10000   # 最大迭代次数(防止死循环)\n",
    "epsilon = 1e-3 \n",
    "# 初始化权值\n",
    "#seed( )用于指定随机数生成时所用算法开始的整数值，如果使用相同的seed( )值，则每次生成的随即数都相同，如果不设置这个值，则系统根据时间来自己选择这个值，此时每次生成的随机数因时间差异而不同。\n",
    "np.random.seed(0)\n",
    "w = np.random.randn(2)\n",
    "#print w\n",
    "alpha = 0.001      # 步长(注意取值过大会导致振荡,过小收敛速度变慢)\n",
    "diff = 0.           \n",
    "error = np.zeros(2) \n",
    "#print error\n",
    "count = 0          # 循环次数\n",
    "finish = 0         # 终止标志\n",
    "# -----------------------------------------------梯度下降法---------------------------------------------------------\n",
    "while count < loop_max:\n",
    "    count += 1\n",
    "    sum_m = np.zeros(2)\n",
    "    for i in range(m):\n",
    "         dif = (np.dot(w, input_data[i]) - target_data[i]) * input_data[i]\n",
    "         sum_m = sum_m + dif     # 当alpha取值过大时,sum_m会在迭代过程中会溢出\n",
    "        \n",
    "    w = w - alpha * sum_m       # 注意步长alpha的取值,过大会导致振荡\n",
    "# 判断是否已收敛\n",
    "    if np.linalg.norm(w - error) < epsilon:\n",
    "         finish = 1\n",
    "         break\n",
    "    else:\n",
    "         error = w\n",
    "print 'loop count = %d' % count,  '\\tw:[%f, %f]' % (w[0], w[1])\n",
    "\n",
    "# check with scipy linear regression \n",
    "slope, intercept, r_value, p_value, slope_std_error = stats.linregress(x, target_data)\n",
    "print 'intercept = %s slope = %s' %(intercept, slope)\n",
    "\n",
    "plt.plot(x, target_data, 'k+')\n",
    "plt.plot(x, w[1] * x + w[0], 'r')\n",
    "plt.show()\n"
   ]
  },
  {
   "cell_type": "code",
   "execution_count": 20,
   "metadata": {
    "collapsed": false
   },
   "outputs": [
    {
     "name": "stdout",
     "output_type": "stream",
     "text": [
      "loop count = 306 \tw:[5.634210, 1.886165]\n"
     ]
    }
   ],
   "source": [
    "# -------------------------------------------随机梯度下降算法------------------------------------------------------\n",
    "import numpy as np\n",
    "from scipy import stats\n",
    "import matplotlib.pyplot as plt\n",
    "\n",
    "# 构造训练数据\n",
    "x = np.arange(0., 10., 0.2)\n",
    "m = len(x)                                      # 训练数据点数目\n",
    "x0 = np.full(m, 1.0)\n",
    "input_data = np.vstack([x0, x]).T               # 将偏置b作为权向量的第一个分量\n",
    "#print input_data\n",
    "target_data = 2 * x + 5 + np.random.randn(m)\n",
    "\n",
    "# 两种终止条件\n",
    "loop_max = 10000   # 最大迭代次数(防止死循环)\n",
    "epsilon = 1e-3 \n",
    "# 初始化权值\n",
    "#seed( )用于指定随机数生成时所用算法开始的整数值，如果使用相同的seed( )值，则每次生成的随即数都相同，如果不设置这个值，则系统根据时间来自己选择这个值，此时每次生成的随机数因时间差异而不同。\n",
    "np.random.seed(0)\n",
    "w = np.random.randn(2)\n",
    "#print w\n",
    "alpha = 0.001      # 步长(注意取值过大会导致振荡,过小收敛速度变慢)\n",
    "diff = 0.           \n",
    "error = np.zeros(2) \n",
    "#print error\n",
    "count = 0          # 循环次数\n",
    "finish = 0         # 终止标志\n",
    "while count < loop_max:\n",
    "    count += 1\n",
    "    #遍历训练数据集，不断更新权值\n",
    "    for i in range(m):  \n",
    "        diff = np.dot(w, input_data[i]) - target_data[i]  # 训练集代入,计算误差值 \n",
    "        # 采用随机梯度下降算法,更新一次权值只使用一组训练数据\n",
    "        w = w - alpha * diff * input_data[i]\n",
    " \n",
    "        # ------------------------------终止条件判断-----------------------------------------\n",
    "        # 若没终止，则继续读取样本进行处理，如果所有样本都读取完毕了,则循环重新从头开始读取样本进行处理。\n",
    "        \n",
    "        # ----------------------------------终止条件判断-----------------------------------------\n",
    "    # 注意：有多种迭代终止条件，和判断语句的位置。终止判断可以放在权值向量更新一次后,也可以放在更新m次后。\n",
    "    if np.linalg.norm(w - error) < epsilon:     # 终止条件：前后两次计算出的权向量的绝对误差充分小  \n",
    "        finish = 1\n",
    "        break\n",
    "    else:\n",
    "        error = w\n",
    "print 'loop count = %d' % count,  '\\tw:[%f, %f]' % (w[0], w[1])"
   ]
  },
  {
   "cell_type": "markdown",
   "metadata": {},
   "source": [
    " - 牛顿法\n",
    " \n",
    " 求解多元函数极小值的牛顿迭代算法：\n",
    " \n",
    "\\begin{equation*}\n",
    "x^{k+1} = x^{k} - [\\bigtriangledown^2 f(x^k)]^{-1}\\bigtriangledown f(x^k)\n",
    "\\end{equation*}\n",
    "\n",
    " - 牛顿法算法：\n",
    "\n",
    "Step 1: 给出$x^0 \\in R^n \\quad,0 \\leq  \\varepsilon \\leq 1,k=0$\n",
    "\n",
    "Step 2: 计算$\\bigtriangledown f(x^k)$,如果$\\Vert \\bigtriangledown f(x^k) \\Vert \\leq \\varepsilon $,停止。\n",
    "否则计算$\\bigtriangledown^2 f(x^k)$,并令$d^k=-[\\bigtriangledown^2 f(x^k)]^{-1}\\bigtriangledown f(x^k)$\n",
    "\n",
    "Step 3:令$x^{k+1}=x^k+d^k,k=k+1$，返回Step2.\n",
    " - demo\n",
    " \n",
    " 设\n",
    " \\begin{equation*}\n",
    "f(x)=(6+x_1+x_2)^2+(2-3x_1-3x_2-x_1x_2)^2\n",
    "\\end{equation*}\n",
    "求在点$x^1=(-4,6)^T$处的牛顿方向\n",
    "\n",
    "牛顿方向:\n",
    "\\begin{equation*}\n",
    "d=-[\\bigtriangledown^2 f(x)]^{-1}\\bigtriangledown f(x)\n",
    "\\end{equation*}\n",
    "故需要写出$\\bigtriangledown f(x),\\bigtriangledown^2 f(x)$的表达式。\n",
    "\n",
    "\\begin{equation*}\n",
    "\\frac{\\partial  f}{\\partial x_1} = 2(6+x_1+x_2)+2(2-3x_1-3x_2-x_1x_2)(-3-x_2)\\\\\n",
    "\\frac{\\partial  f}{\\partial x_2} = 2(6+x_1+x_2)+2(2-3x_1-3x_2-x_1x_2)(-3-x_1)\n",
    "\\end{equation*}\n",
    "所以\n",
    "\\begin{equation*}\n",
    "\\frac{\\partial f}{\\partial x_1} \\Bigg|_{x=(-4,6)^T} = -344\\\\\n",
    "\\frac{\\partial f}{\\partial x_2} \\Bigg|_{x=(-4,6)^T} = 56\\\\\n",
    "\\bigtriangledown f(x^1) = \n",
    "\\left(                 %左括号\n",
    "  \\begin{array}{c}   %该矩阵一共3列，每一列都居中放置\n",
    "    -344\\\\  %第一行元素\n",
    "    56\\\\  %第二行元素\n",
    "  \\end{array}\n",
    "\\right) \\\\                %右括号\n",
    "\\frac{\\partial^2  f}{\\partial x_1^2} = 2+2(3+x_2)^2\\\\\n",
    "\\frac{\\partial^2  f}{\\partial x_2^2} = 2+2(3+x_1)^2\\\\\n",
    "\\frac{\\partial^2  f}{\\partial x_2 \\partial x_1} = \\frac{\\partial^2  f}{\\partial x_1 \\partial x_2} = 2+2(3+x_1)(3+x_2)+2(-2+3x_1+3x_2+x_1x_2)\n",
    "\\end{equation*}\n",
    "\n",
    "所以\n",
    "\\begin{equation*}\n",
    "\\frac{\\partial^2 f}{\\partial x_1^2} \\Bigg|_{x=(-4,6)^T} = 164\\\\\n",
    "\\frac{\\partial^2 f}{\\partial x_2^2} \\Bigg|_{x=(-4,6)^T} = 4\\\\\n",
    "\\frac{\\partial^2 f}{\\partial x_2 \\partial x_1} \\Bigg|_{x=(-4,6)^T} = -56\\\\\n",
    "\\frac{\\partial^2 f}{\\partial x_1 \\partial x_2} \\Bigg|_{x=(-4,6)^T} = -56\\\\\n",
    "\\bigtriangledown^2 f(x^1) = \n",
    "\\left(                 %左括号\n",
    "  \\begin{array}{cc}   %该矩阵一共3列，每一列都居中放置\n",
    "    164 & -56\\\\  %第一行元素\n",
    "    -56 & 4\\\\  %第二行元素\n",
    "  \\end{array}\n",
    "\\right) \\\\                %右括号\n",
    "[\\bigtriangledown^2 f(x^1)]^{-1} = \\frac{1}{620}\n",
    "\\left(                 %左括号\n",
    "  \\begin{array}{cc}   %该矩阵一共3列，每一列都居中放置\n",
    "    1 & 14\\\\  %第一行元素\n",
    "    14 & 41\\\\  %第二行元素\n",
    "  \\end{array}\n",
    "\\right) \\\\                %右括号\n",
    "\\end{equation*}\n",
    "\n",
    "因此所求的牛顿方向为：\n",
    "\n",
    "\\begin{equation*}\n",
    "d^1=\n",
    "-[\\bigtriangledown^2 f(x^1)]^{-1}\\bigtriangledown f(x^1) = -\\frac{1}{620}\n",
    "\\left(                 %左括号\n",
    "  \\begin{array}{cc}   %该矩阵一共3列，每一列都居中放置\n",
    "    1 & 14\\\\  %第一行元素\n",
    "    14 & 41\\\\  %第二行元素\n",
    "  \\end{array}\n",
    "\\right)                %右括号\n",
    "\\left(                 %左括号\n",
    "  \\begin{array}{c}   %该矩阵一共3列，每一列都居中放置\n",
    "    -344\\\\  %第一行元素\n",
    "    56\\\\  %第二行元素\n",
    "  \\end{array}\n",
    "\\right) \\\\                %右括号\n",
    "= \\frac{2}{32}\n",
    "\\left(                 %左括号\n",
    "  \\begin{array}{c}   %该矩阵一共3列，每一列都居中放置\n",
    "    11\\\\  %第一行元素\n",
    "    -63\\\\  %第二行元素\n",
    "  \\end{array}\n",
    "\\right) \\\\\n",
    "\\end{equation*}"
   ]
  },
  {
   "cell_type": "markdown",
   "metadata": {},
   "source": [
    "## 第5章 机器学习基础\n",
    "\n",
    "\n",
    "\n"
   ]
  },
  {
   "cell_type": "markdown",
   "metadata": {},
   "source": [
    " - 局部加权回归\n",
    " \n",
    " 局部加权线性回归的进行前提必须要有预测值x才可以进行，它的原理是损失函数变为:\n",
    "\\begin{equation*}\n",
    "J(\\theta) = \\frac{1}{2} \\sum_{i=1}^m \\omega^{(i)} = exp(- \\frac{}{}) (h_{\\theta}(x^{(i)})-y^{(i)})^2\\\\\n",
    "\\omega^{(i)} = exp(- \\frac{(x^{(i)}-x)^2}{2\\tau^2})\n",
    "\\end{equation*}\n",
    "\n",
    "这里的x就是预测值，所以必须要有预测值才可以求出损失函数，通过求损失函数的极小值来得到参数。\n",
    "\n",
    " - 全概率公式\n",
    " 若事件$A_1,A_2,\\cdots$构成一个完备事件组并且都具有正概率，则对任何一个时间$B$,有\n",
    "\\begin{equation*}\n",
    "P(B) = \\sum_{i} P(A_i)P(B \\vert A_i)\n",
    "\\end{equation*}\n",
    " - 贝叶斯公式\n",
    " \n",
    " 若事件$A_1,A_2,\\cdots$构成一个完备事件组并且都具有正概率，则对于任何一个概率不为零的事件$B$,有\n",
    "\\begin{equation*}\n",
    "P(A_m \\vert B) = \\frac{P(A_m)P(B \\vert A_m)}{\\sum_{i} P(A_i)P(B \\vert A_i)}\n",
    "\\end{equation*}\n",
    "\n",
    "例子：\n",
    "设5支枪中有2支未经试射校正，3支已校正。一射手用校正过的枪射击，中靶率为0.9，用未校正过的枪射击，中靶率为0.4。\n",
    "(1)该射手任取一支枪射击，中靶的概率是多少？\n",
    "(2)若任取一支枪射击，结果未中靶，求该枪未校正的概率。\n",
    "解：设A表示枪已校正，B表示射击中靶\n",
    "则\n",
    "\\begin{equation*}\n",
    "P(A) = \\frac{3}{5}\\\\\n",
    "P(\\overline{A}) = \\frac{2}{5}\\\\\n",
    "p(B \\vert A)=0.9\\\\\n",
    "p(\\overline{B} \\vert A) =0.1\\\\\n",
    "p(B \\vert \\overline{A}) = 0.4\\\\\n",
    "p(\\overline{B} \\vert \\overline{A})=0.6\\\\\n",
    "(1)P(B)=P(A)P(B \\vert A)+P(\\overline{A})P(B \\vert \\overline{A})=\\frac{3}{5} \\times 0.9 + \\frac{2}{5} \\times 0.4 = 0.7\\\\\n",
    "(2)P(\\overline{A} \\vert \\overline{B})= \\frac{P(\\overline{A})P(\\overline{B} \\vert \\overline{A})}{P(\\overline{A})P(\\overline{B} \\vert \\overline{A})+P(A)P(\\overline{B} \\vert A)} \\\\\n",
    "\\frac{\\frac{2}{5} \\times 0.6}{\\frac{2}{5} \\times 0.6+\\frac{3}{5} \\times 0.1}\\\\\n",
    "=0.8\n",
    "\\end{equation*}\n"
   ]
  },
  {
   "cell_type": "markdown",
   "metadata": {},
   "source": [
    " - 置信区间\n",
    " \n",
    " 设$\\theta$是总体$X$的一个未知参数，若存在随机区间$[\\theta_1,\\theta_2]$,对于给定的$0 < \\alpha <1$,若满足\n",
    " $P \\{\\theta_1 \\le \\theta \\le \\theta_2 \\} = 1- \\alpha$\n",
    " 则称区间$[\\theta_1,\\theta_2]$是$\\theta$的置信水平（置信度）为$1-\\alpha$的置信区间。\n",
    " $\\theta_1,\\theta_2$分别称为置信下限和置信上限"
   ]
  },
  {
   "cell_type": "markdown",
   "metadata": {},
   "source": [
    "学习到5.6 - 贝叶斯统计\n",
    "deep learning book 不适合初学者，适合有了一定工作经验的人员阅读 "
   ]
  }
 ],
 "metadata": {
  "kernelspec": {
   "display_name": "Python 2",
   "language": "python",
   "name": "python2"
  },
  "language_info": {
   "codemirror_mode": {
    "name": "ipython",
    "version": 2
   },
   "file_extension": ".py",
   "mimetype": "text/x-python",
   "name": "python",
   "nbconvert_exporter": "python",
   "pygments_lexer": "ipython2",
   "version": "2.7.13"
  }
 },
 "nbformat": 4,
 "nbformat_minor": 0
}
